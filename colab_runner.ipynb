{
 "nbformat": 4,
 "nbformat_minor": 0,
 "metadata": {
  "colab": {
   "provenance": [],
   "gpuType": "T4",
   "include_colab_link": true
  },
  "kernelspec": {
   "name": "python3",
   "display_name": "Python 3"
  },
  "language_info": {
   "name": "python"
  },
  "accelerator": "GPU"
 },
 "cells": [
  {
   "cell_type": "markdown",
   "metadata": {
    "id": "view-in-github",
    "colab_type": "text"
   },
   "source": "<a href=\"https://colab.research.google.com/github/thestbobo/DLML_FL_project/blob/dense_training/colab_runner.ipynb\" target=\"_parent\"><img src=\"https://colab.research.google.com/assets/colab-badge.svg\" alt=\"Open In Colab\"/></a>"
  },
  {
   "cell_type": "markdown",
   "source": [
    "**Environment Setup**"
   ],
   "metadata": {
    "id": "L51bSihQEz-a"
   }
  },
  {
   "cell_type": "code",
   "source": [
    "from google.colab import drive\n",
    "drive.mount('/content/drive')"
   ],
   "metadata": {
    "id": "EkDPMfWpSljA",
    "outputId": "506912a8-2257-4976-a15c-84af542d1b58",
    "colab": {
     "base_uri": "https://localhost:8080/"
    }
   },
   "outputs": [],
   "execution_count": null
  },
  {
   "cell_type": "code",
   "metadata": {
    "id": "f1EUz3AzEYn9",
    "outputId": "163f3540-6122-4a94-f5d0-3c84e7762caa",
    "colab": {
     "base_uri": "https://localhost:8080/"
    },
    "collapsed": true
   },
   "source": [
    "# Clone GitHub repository\n",
    "!git clone https://github.com/thestbobo/DLML_FL_project.git\n",
    "%cd DLML_FL_project\n",
    "\n",
    "# Install dependencies\n",
    "!pip install -r requirements.txt\n",
    "%cd DLML_FL_project\n",
    "\n",
    "# checkout to dense_training branch\n",
    "!git checkout dense_training\n",
    "%cd DLML_FL_project"
   ],
   "outputs": [],
   "execution_count": null
  },
  {
   "metadata": {},
   "cell_type": "code",
   "outputs": [],
   "execution_count": null,
   "source": "!git pull origin dense_training"
  },
  {
   "cell_type": "markdown",
   "source": [
    "**Environment check**"
   ],
   "metadata": {
    "id": "Fq6CSsDxFl_c"
   }
  },
  {
   "cell_type": "code",
   "source": [
    "import torch\n",
    "print(\"CUDA avaiable:\", torch.cuda.is_available())"
   ],
   "metadata": {
    "id": "WLGGMmyHFqbr",
    "outputId": "56010f3c-065f-4d79-8e45-52c2c881346a",
    "colab": {
     "base_uri": "https://localhost:8080/"
    }
   },
   "outputs": [],
   "execution_count": null
  },
  {
   "cell_type": "markdown",
   "source": "**Wandb API Key**",
   "metadata": {
    "id": "XsshK5U0vqkW"
   }
  },
  {
   "cell_type": "code",
   "source": [
    "%env WANDB_API_KEY=9efaa9e72ef3b211a9239aed9b1ea7dcb2f680ad"
   ],
   "metadata": {
    "id": "F8Wh8RJTvlRf",
    "outputId": "ee5e2a40-5542-42ad-e331-96d47e70ea93",
    "colab": {
     "base_uri": "https://localhost:8080/"
    }
   },
   "outputs": [],
   "execution_count": null
  },
  {
   "metadata": {},
   "cell_type": "markdown",
   "source": "**SWEEP**"
  },
  {
   "metadata": {
    "id": "d5e7pzY9RzvE"
   },
   "cell_type": "markdown",
   "source": "The code snippet below runs an already created sweep on the centralized model. If you want to run the sweep yourself and view the results, you need to create a new sweep via terminal, copy the given sweep_id and change it below"
  },
  {
   "metadata": {
    "id": "cdJ4RF2_RzvE"
   },
   "cell_type": "code",
   "source": [
    "import wandb\n",
    "import importlib.util\n",
    "import shutil\n",
    "from pathlib import Path\n",
    "\n",
    "\n",
    "# setup sweep function dynamically\n",
    "spec = importlib.util.spec_from_file_location(\"train\", \"/content/DLML_FL_project/train.py\")\n",
    "train_module = importlib.util.module_from_spec(spec)\n",
    "spec.loader.exec_module(train_module)\n",
    "main = train_module.main\n",
    "\n",
    "\n",
    "# my wandb api key\n",
    "%env WANDB_API_KEY=e78d3761af2b7e3a53b7a9ba6385370820743648\n",
    "\n",
    "\n",
    "# run sweep - change here to run it yourself\n",
    "sweep_id = \"atabaycetin-politecnico-di-torino/DLML_FL_project/bnaotqoj\"\n",
    "wandb.agent(sweep_id, function=main, count=5)"
   ],
   "outputs": [],
   "execution_count": null
  },
  {
   "cell_type": "markdown",
   "source": [
    "CENTRALIZED"
   ],
   "metadata": {
    "id": "bpNbvj6Rh14I"
   }
  },
  {
   "cell_type": "code",
   "source": [
    "!python train.py"
   ],
   "metadata": {
    "id": "8dzzNjMtv53Y",
    "outputId": "5954c515-87c3-42ba-b7ea-d9e5605ddc25",
    "colab": {
     "base_uri": "https://localhost:8080/"
    }
   },
   "outputs": [],
   "execution_count": null
  },
  {
   "cell_type": "markdown",
   "source": [
    "FEDERATED"
   ],
   "metadata": {
    "id": "hPlNZHpJh3nI"
   }
  },
  {
   "cell_type": "code",
   "source": [
    "!python train_federated.py"
   ],
   "metadata": {
    "id": "tP88YoXxh40Y"
   },
   "outputs": [],
   "execution_count": null
  }
 ]
}
